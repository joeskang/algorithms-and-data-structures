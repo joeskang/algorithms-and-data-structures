{
 "cells": [
  {
   "cell_type": "markdown",
   "source": [
    "# Homebrew Heap"
   ],
   "metadata": {
    "collapsed": false
   },
   "id": "fa0dd4c571bd06a3"
  },
  {
   "cell_type": "markdown",
   "source": [
    "## Array Representation"
   ],
   "metadata": {
    "collapsed": false
   },
   "id": "712e4e5fa7edb62d"
  },
  {
   "cell_type": "code",
   "outputs": [
    {
     "ename": "SyntaxError",
     "evalue": "incomplete input (2776070481.py, line 11)",
     "output_type": "error",
     "traceback": [
      "\u001B[0;36m  Cell \u001B[0;32mIn[2], line 11\u001B[0;36m\u001B[0m\n\u001B[0;31m    def heappop(heap: list) -> None:\u001B[0m\n\u001B[0m                                    ^\u001B[0m\n\u001B[0;31mSyntaxError\u001B[0m\u001B[0;31m:\u001B[0m incomplete input\n"
     ]
    }
   ],
   "source": [
    "\n",
    "def heappush(heap: list, value: int) -> None:\n",
    "    heap.append(value)\n",
    "    # get the index of the child\n",
    "    index = len(heap) - 1\n",
    "    while index > 0:\n",
    "        parent = index // 2 if index % 2 else (index - 1) // 2\n",
    "        if heap[index] < heap[parent]:\n",
    "            heap[index], heap[parent] = heap[parent], heap[index]\n",
    "        index = parent\n",
    "        \n",
    "def heappop(heap: list) -> int:\n",
    "    if len(heap) == 0:\n",
    "        raise IndexError(\"Heap had no elements to pop\")\n",
    "    \n",
    "    answer, heap[0] = heap[0], heap[-1]\n",
    "    heap = heap[:-1]\n",
    "    index = 0\n",
    "    while index < len(heap):\n",
    "        left_child, right_child = 2 * index + 1, 2 * index + 2\n",
    "        # left smallest\n",
    "        if left_child \n",
    "    \n",
    "    "
   ],
   "metadata": {
    "collapsed": false,
    "ExecuteTime": {
     "end_time": "2024-02-04T22:43:11.547679Z",
     "start_time": "2024-02-04T22:43:11.544822Z"
    }
   },
   "id": "dfa4b28ea802a8d6",
   "execution_count": 2
  },
  {
   "cell_type": "code",
   "outputs": [],
   "source": [],
   "metadata": {
    "collapsed": false
   },
   "id": "45a727d0f411ab8e"
  }
 ],
 "metadata": {
  "kernelspec": {
   "display_name": "Python 3",
   "language": "python",
   "name": "python3"
  },
  "language_info": {
   "codemirror_mode": {
    "name": "ipython",
    "version": 2
   },
   "file_extension": ".py",
   "mimetype": "text/x-python",
   "name": "python",
   "nbconvert_exporter": "python",
   "pygments_lexer": "ipython2",
   "version": "2.7.6"
  }
 },
 "nbformat": 4,
 "nbformat_minor": 5
}
