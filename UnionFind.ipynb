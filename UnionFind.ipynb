{
 "cells": [
  {
   "cell_type": "markdown",
   "source": [
    "# Union Find"
   ],
   "metadata": {
    "collapsed": false
   },
   "id": "9c29625b579d5695"
  },
  {
   "cell_type": "markdown",
   "source": [
    "useful to find a cycle in a graph"
   ],
   "metadata": {
    "collapsed": false
   },
   "id": "332a6c01f7af14d2"
  },
  {
   "cell_type": "code",
   "outputs": [],
   "source": [],
   "metadata": {
    "collapsed": false
   },
   "id": "d36e7bd4ec93082d"
  }
 ],
 "metadata": {
  "kernelspec": {
   "display_name": "Python 3",
   "language": "python",
   "name": "python3"
  },
  "language_info": {
   "codemirror_mode": {
    "name": "ipython",
    "version": 2
   },
   "file_extension": ".py",
   "mimetype": "text/x-python",
   "name": "python",
   "nbconvert_exporter": "python",
   "pygments_lexer": "ipython2",
   "version": "2.7.6"
  }
 },
 "nbformat": 4,
 "nbformat_minor": 5
}
