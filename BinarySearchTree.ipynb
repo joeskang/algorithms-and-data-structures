{
 "cells": [
  {
   "cell_type": "markdown",
   "source": [
    "# Binary Search Tree"
   ],
   "metadata": {
    "collapsed": false
   },
   "id": "9620a2d5bce5c4f"
  },
  {
   "cell_type": "code",
   "outputs": [],
   "source": [
    "class TreeNode:\n",
    "    \n",
    "    def __init__(self, val:int = None, left = None, right=None):\n",
    "        self.val = val\n",
    "        self.left = left\n",
    "        self.right = right"
   ],
   "metadata": {
    "collapsed": false
   },
   "id": "e6ab15620c137d30"
  },
  {
   "cell_type": "markdown",
   "source": [
    "## Insertion"
   ],
   "metadata": {
    "collapsed": false
   },
   "id": "f8ab24fd8d407eb9"
  },
  {
   "cell_type": "code",
   "outputs": [],
   "source": [
    "def insert(root: TreeNode, val: int) -> TreeNode:\n",
    "    if not root:\n",
    "        return TreeNode(val)\n",
    "    \n",
    "    if val > root.val:\n",
    "        root.right = insert(root.right, val)\n",
    "    elif val < root.val:\n",
    "        root.left = insert(root.left, val)\n",
    "    return root"
   ],
   "metadata": {
    "collapsed": false
   },
   "id": "e1e37001c271230c"
  }
 ],
 "metadata": {
  "kernelspec": {
   "display_name": "Python 3",
   "language": "python",
   "name": "python3"
  },
  "language_info": {
   "codemirror_mode": {
    "name": "ipython",
    "version": 2
   },
   "file_extension": ".py",
   "mimetype": "text/x-python",
   "name": "python",
   "nbconvert_exporter": "python",
   "pygments_lexer": "ipython2",
   "version": "2.7.6"
  }
 },
 "nbformat": 4,
 "nbformat_minor": 5
}
