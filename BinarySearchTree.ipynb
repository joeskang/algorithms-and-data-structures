{
 "cells": [
  {
   "cell_type": "markdown",
   "source": [
    "# Binary Search Tree"
   ],
   "metadata": {
    "collapsed": false
   },
   "id": "9620a2d5bce5c4f"
  },
  {
   "cell_type": "code",
   "outputs": [],
   "source": [
    "class TreeNode:\n",
    "    \n",
    "    def __init__(self, val:int = None, left = None, right=None):\n",
    "        self.val = val\n",
    "        self.left = left\n",
    "        self.right = right"
   ],
   "metadata": {
    "collapsed": false,
    "ExecuteTime": {
     "end_time": "2024-02-03T18:03:24.089605Z",
     "start_time": "2024-02-03T18:03:24.078086Z"
    }
   },
   "id": "e6ab15620c137d30",
   "execution_count": 1
  },
  {
   "cell_type": "markdown",
   "source": [
    "## Insertion"
   ],
   "metadata": {
    "collapsed": false
   },
   "id": "f8ab24fd8d407eb9"
  },
  {
   "cell_type": "markdown",
   "source": [],
   "metadata": {
    "collapsed": false
   },
   "id": "8bed0b71f4c52bdc"
  },
  {
   "cell_type": "code",
   "outputs": [],
   "source": [
    "def insert(root: TreeNode, val: int) -> TreeNode:\n",
    "    if not root:\n",
    "        return TreeNode(val)\n",
    "    \n",
    "    if val > root.val:\n",
    "        root.right = insert(root.right, val)\n",
    "    elif val < root.val:\n",
    "        root.left = insert(root.left, val)\n",
    "    return root"
   ],
   "metadata": {
    "collapsed": false,
    "ExecuteTime": {
     "end_time": "2024-02-03T18:10:11.940336Z",
     "start_time": "2024-02-03T18:10:11.937979Z"
    }
   },
   "id": "e1e37001c271230c",
   "execution_count": 4
  },
  {
   "cell_type": "markdown",
   "source": [
    "## Find minimum value"
   ],
   "metadata": {
    "collapsed": false
   },
   "id": "38da22cc630d591b"
  },
  {
   "cell_type": "code",
   "outputs": [],
   "source": [
    "def find_minimum(root):\n",
    "    curr = root\n",
    "    while curr and curr.left:\n",
    "        curr = curr.left\n",
    "    return curr"
   ],
   "metadata": {
    "collapsed": false,
    "ExecuteTime": {
     "end_time": "2024-02-03T18:11:51.491237Z",
     "start_time": "2024-02-03T18:11:51.484293Z"
    }
   },
   "id": "8fd88f7153787149",
   "execution_count": 5
  },
  {
   "cell_type": "markdown",
   "source": [
    "## REMOVE"
   ],
   "metadata": {
    "collapsed": false
   },
   "id": "572e7686ae3dadf0"
  },
  {
   "cell_type": "markdown",
   "source": [
    "\n",
    "there are two different scenarios:\n",
    "1. the node we're removing has 0 to 1 child\n",
    "2. the node we're removing has 2 children\n",
    "\n",
    "case we're dealing with scenario 2, we take the smallest element from the right subtree and replace the replacing node with that node"
   ],
   "metadata": {
    "collapsed": false
   },
   "id": "940e8c4e40cd4deb"
  },
  {
   "cell_type": "code",
   "outputs": [],
   "source": [
    "def remove(node: TreeNode, value: int) -> TreeNode:\n",
    "    if node is None:\n",
    "        return node\n",
    "    if value > node.val:\n",
    "        node.right = remove(node.right, value)\n",
    "    elif value < node.val:\n",
    "        node.left = remove(node.left, value)\n",
    "        \n",
    "    else:\n",
    "        if not node.left:\n",
    "            return node.right\n",
    "        if not node.right:\n",
    "            return node.left\n",
    "        min_node = find_minimum(node.right)\n",
    "        node.val = min_node.val\n",
    "        node.right = remove(node.right, min_node.val)\n",
    "            \n",
    "    return node\n",
    "\n",
    "\"\"\" better option: \"\"\"\n",
    "def deleteNode(root, key):\n",
    "    if not root:\n",
    "        return root\n",
    "    \n",
    "    if key > root.val:\n",
    "        root.right = deleteNode(root.right, key)\n",
    "    elif key < root.val:\n",
    "        root.left = deleteNode(root.left, key)\n",
    "    else:\n",
    "        if not root.left:\n",
    "            return root.right\n",
    "        elif not root.right:\n",
    "            return root.left\n",
    "        \n",
    "        curr = root.right\n",
    "        while curr.left:\n",
    "            curr = curr.left\n",
    "        root.val = curr.val\n",
    "        root.right = deleteNode(root.right, root.val)\n",
    "    return root\n",
    "        \n",
    "        "
   ],
   "metadata": {
    "collapsed": false
   },
   "id": "f58698e55cb960a2"
  },
  {
   "cell_type": "markdown",
   "source": [
    "# rebalance"
   ],
   "metadata": {
    "collapsed": false
   },
   "id": "f3c07b3dec8682ac"
  },
  {
   "cell_type": "code",
   "outputs": [],
   "source": [],
   "metadata": {
    "collapsed": false
   },
   "id": "46081d01c8042e4"
  }
 ],
 "metadata": {
  "kernelspec": {
   "display_name": "Python 3",
   "language": "python",
   "name": "python3"
  },
  "language_info": {
   "codemirror_mode": {
    "name": "ipython",
    "version": 2
   },
   "file_extension": ".py",
   "mimetype": "text/x-python",
   "name": "python",
   "nbconvert_exporter": "python",
   "pygments_lexer": "ipython2",
   "version": "2.7.6"
  }
 },
 "nbformat": 4,
 "nbformat_minor": 5
}
