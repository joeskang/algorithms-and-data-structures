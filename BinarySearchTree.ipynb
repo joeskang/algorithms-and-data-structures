{
 "cells": [
  {
   "cell_type": "markdown",
   "source": [
    "# Binary Search Tree"
   ],
   "metadata": {
    "collapsed": false
   },
   "id": "9620a2d5bce5c4f"
  },
  {
   "cell_type": "code",
   "outputs": [],
   "source": [
    "class TreeNode:\n",
    "    \n",
    "    def __init__(self, val:int = None, left = None, right=None):\n",
    "        self.val = val\n",
    "        self.left = left\n",
    "        self.right = right"
   ],
   "metadata": {
    "collapsed": false,
    "ExecuteTime": {
     "end_time": "2024-02-03T18:03:24.089605Z",
     "start_time": "2024-02-03T18:03:24.078086Z"
    }
   },
   "id": "e6ab15620c137d30",
   "execution_count": 1
  },
  {
   "cell_type": "markdown",
   "source": [
    "## Insertion"
   ],
   "metadata": {
    "collapsed": false
   },
   "id": "f8ab24fd8d407eb9"
  },
  {
   "cell_type": "markdown",
   "source": [],
   "metadata": {
    "collapsed": false
   },
   "id": "8bed0b71f4c52bdc"
  },
  {
   "cell_type": "code",
   "outputs": [],
   "source": [
    "def insert(root: TreeNode, val: int) -> TreeNode:\n",
    "    if not root:\n",
    "        return TreeNode(val)\n",
    "    \n",
    "    if val > root.val:\n",
    "        root.right = insert(root.right, val)\n",
    "    elif val < root.val:\n",
    "        root.left = insert(root.left, val)\n",
    "    return root"
   ],
   "metadata": {
    "collapsed": false,
    "ExecuteTime": {
     "end_time": "2024-02-03T18:03:26.388708Z",
     "start_time": "2024-02-03T18:03:26.383883Z"
    }
   },
   "id": "e1e37001c271230c",
   "execution_count": 2
  },
  {
   "cell_type": "code",
   "outputs": [],
   "source": [],
   "metadata": {
    "collapsed": false
   },
   "id": "571047105df0e3e6"
  }
 ],
 "metadata": {
  "kernelspec": {
   "display_name": "Python 3",
   "language": "python",
   "name": "python3"
  },
  "language_info": {
   "codemirror_mode": {
    "name": "ipython",
    "version": 2
   },
   "file_extension": ".py",
   "mimetype": "text/x-python",
   "name": "python",
   "nbconvert_exporter": "python",
   "pygments_lexer": "ipython2",
   "version": "2.7.6"
  }
 },
 "nbformat": 4,
 "nbformat_minor": 5
}
